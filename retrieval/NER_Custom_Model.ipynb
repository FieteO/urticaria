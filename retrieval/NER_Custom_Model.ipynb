{
 "cells": [
  {
   "cell_type": "code",
   "execution_count": 12,
   "id": "b5dbfe8b",
   "metadata": {},
   "outputs": [],
   "source": [
    "#import packages\n",
    "import scispacy\n",
    "import spacy\n",
    "from spacy import displacy\n",
    "import pandas as pd"
   ]
  },
  {
   "cell_type": "code",
   "execution_count": 13,
   "id": "eb14141e",
   "metadata": {},
   "outputs": [
    {
     "data": {
      "text/html": [
       "<div>\n",
       "<style scoped>\n",
       "    .dataframe tbody tr th:only-of-type {\n",
       "        vertical-align: middle;\n",
       "    }\n",
       "\n",
       "    .dataframe tbody tr th {\n",
       "        vertical-align: top;\n",
       "    }\n",
       "\n",
       "    .dataframe thead th {\n",
       "        text-align: right;\n",
       "    }\n",
       "</style>\n",
       "<table border=\"1\" class=\"dataframe\">\n",
       "  <thead>\n",
       "    <tr style=\"text-align: right;\">\n",
       "      <th></th>\n",
       "      <th>Unnamed: 0</th>\n",
       "      <th>article</th>\n",
       "      <th>statement</th>\n",
       "      <th>lemma</th>\n",
       "    </tr>\n",
       "  </thead>\n",
       "  <tbody>\n",
       "    <tr>\n",
       "      <th>0</th>\n",
       "      <td>0</td>\n",
       "      <td>Guttman-Yassky 2007</td>\n",
       "      <td>The autologous serum skin test in a cohort of ...</td>\n",
       "      <td>the autologous serum skin test in cohort of ch...</td>\n",
       "    </tr>\n",
       "    <tr>\n",
       "      <th>1</th>\n",
       "      <td>1</td>\n",
       "      <td>Guttman-Yassky 2007</td>\n",
       "      <td>The autologous serum skin test in a cohort of ...</td>\n",
       "      <td>the autologous serum skin test in cohort of ch...</td>\n",
       "    </tr>\n",
       "    <tr>\n",
       "      <th>2</th>\n",
       "      <td>2</td>\n",
       "      <td>Guttman-Yassky 2007</td>\n",
       "      <td>*Corresponding author, Institute of Allergy, C...</td>\n",
       "      <td>correspond author institute of allergy clinica...</td>\n",
       "    </tr>\n",
       "    <tr>\n",
       "      <th>3</th>\n",
       "      <td>3</td>\n",
       "      <td>Guttman-Yassky 2007</td>\n",
       "      <td>+972 ; fax +972 ; E-mail: Received: 2 November...</td>\n",
       "      <td>fax mail receive november accept february doi</td>\n",
       "    </tr>\n",
       "    <tr>\n",
       "      <th>4</th>\n",
       "      <td>4</td>\n",
       "      <td>Guttman-Yassky 2007</td>\n",
       "      <td>A positive autologous serum skin test  is cons...</td>\n",
       "      <td>positive autologous serum skin test be conside...</td>\n",
       "    </tr>\n",
       "  </tbody>\n",
       "</table>\n",
       "</div>"
      ],
      "text/plain": [
       "   Unnamed: 0              article  \\\n",
       "0           0  Guttman-Yassky 2007   \n",
       "1           1  Guttman-Yassky 2007   \n",
       "2           2  Guttman-Yassky 2007   \n",
       "3           3  Guttman-Yassky 2007   \n",
       "4           4  Guttman-Yassky 2007   \n",
       "\n",
       "                                           statement  \\\n",
       "0  The autologous serum skin test in a cohort of ...   \n",
       "1  The autologous serum skin test in a cohort of ...   \n",
       "2  *Corresponding author, Institute of Allergy, C...   \n",
       "3  +972 ; fax +972 ; E-mail: Received: 2 November...   \n",
       "4  A positive autologous serum skin test  is cons...   \n",
       "\n",
       "                                               lemma  \n",
       "0  the autologous serum skin test in cohort of ch...  \n",
       "1  the autologous serum skin test in cohort of ch...  \n",
       "2  correspond author institute of allergy clinica...  \n",
       "3      fax mail receive november accept february doi  \n",
       "4  positive autologous serum skin test be conside...  "
      ]
     },
     "execution_count": 13,
     "metadata": {},
     "output_type": "execute_result"
    }
   ],
   "source": [
    "#import DataFrame with Text\n",
    "df = pd.read_csv('./Data/ProcessedData.csv')\n",
    "df.head()"
   ]
  },
  {
   "cell_type": "code",
   "execution_count": 43,
   "id": "6040b55e",
   "metadata": {},
   "outputs": [],
   "source": [
    "nlp = spacy.load('./Model/urticaria.model')"
   ]
  },
  {
   "cell_type": "code",
   "execution_count": 46,
   "id": "5f398799",
   "metadata": {},
   "outputs": [],
   "source": [
    "text = df.loc[3,'statement']"
   ]
  },
  {
   "cell_type": "code",
   "execution_count": 45,
   "id": "5d2b8b08",
   "metadata": {},
   "outputs": [
    {
     "data": {
      "text/html": [
       "<span class=\"tex2jax_ignore\"><div class=\"entities\" style=\"line-height: 2.5; direction: ltr\">*Corresponding author, Institute of \n",
       "<mark class=\"entity\" style=\"background: #ddd; padding: 0.45em 0.6em; margin: 0 0.25em; line-height: 1; border-radius: 0.35em;\">\n",
       "    Allergy\n",
       "    <span style=\"font-size: 0.8em; font-weight: bold; line-height: 1; border-radius: 0.35em; vertical-align: middle; margin-left: 0.5rem\">CONDITION</span>\n",
       "</mark>\n",
       ", Clinical Immunology &amp; AIDS, Rambam Medical Center, \n",
       "<mark class=\"entity\" style=\"background: #ddd; padding: 0.45em 0.6em; margin: 0 0.25em; line-height: 1; border-radius: 0.35em;\">\n",
       "    Haifa-Israel\n",
       "    <span style=\"font-size: 0.8em; font-weight: bold; line-height: 1; border-radius: 0.35em; vertical-align: middle; margin-left: 0.5rem\">TREATMENT</span>\n",
       "</mark>\n",
       ", tel.</div></span>"
      ],
      "text/plain": [
       "<IPython.core.display.HTML object>"
      ]
     },
     "metadata": {},
     "output_type": "display_data"
    }
   ],
   "source": [
    "doc = nlp(text)\n",
    "displacy_image = displacy.render(doc, jupyter=True, style='ent')"
   ]
  },
  {
   "cell_type": "code",
   "execution_count": 47,
   "id": "b8285fcc",
   "metadata": {},
   "outputs": [],
   "source": [
    "table= {\"Article\":[], \"Entity\":[], \"Class\":[]}"
   ]
  },
  {
   "cell_type": "code",
   "execution_count": 49,
   "id": "0b2301e0",
   "metadata": {},
   "outputs": [],
   "source": [
    "for index, row in df.iterrows():\n",
    "    text = df.loc[index,\"statement\"]\n",
    "    article = df.loc[index, \"article\"]\n",
    "    # Only Sentences with less then 40 words\n",
    "    if len(text.split()) >= 40:\n",
    "        continue\n",
    "    doc = nlp(text)\n",
    "    ent = {}\n",
    "    for x in doc.ents:\n",
    "        ent[x.text] = x.label_\n",
    "    for key in ent:\n",
    "        table[\"Article\"].append(article)\n",
    "        table[\"Entity\"].append(key)\n",
    "        table[\"Class\"].append(ent[key])"
   ]
  },
  {
   "cell_type": "code",
   "execution_count": 50,
   "id": "9dfafa4e",
   "metadata": {},
   "outputs": [
    {
     "data": {
      "text/html": [
       "<div>\n",
       "<style scoped>\n",
       "    .dataframe tbody tr th:only-of-type {\n",
       "        vertical-align: middle;\n",
       "    }\n",
       "\n",
       "    .dataframe tbody tr th {\n",
       "        vertical-align: top;\n",
       "    }\n",
       "\n",
       "    .dataframe thead th {\n",
       "        text-align: right;\n",
       "    }\n",
       "</style>\n",
       "<table border=\"1\" class=\"dataframe\">\n",
       "  <thead>\n",
       "    <tr style=\"text-align: right;\">\n",
       "      <th></th>\n",
       "      <th>Article</th>\n",
       "      <th>Entity</th>\n",
       "      <th>Class</th>\n",
       "    </tr>\n",
       "  </thead>\n",
       "  <tbody>\n",
       "    <tr>\n",
       "      <th>0</th>\n",
       "      <td>Guttman-Yassky 2007</td>\n",
       "      <td>Allergy</td>\n",
       "      <td>CONDITION</td>\n",
       "    </tr>\n",
       "    <tr>\n",
       "      <th>1</th>\n",
       "      <td>Guttman-Yassky 2007</td>\n",
       "      <td>Haifa-Israel</td>\n",
       "      <td>TREATMENT</td>\n",
       "    </tr>\n",
       "    <tr>\n",
       "      <th>2</th>\n",
       "      <td>Guttman-Yassky 2007</td>\n",
       "      <td>autologous serum skin</td>\n",
       "      <td>CONDITION</td>\n",
       "    </tr>\n",
       "    <tr>\n",
       "      <th>3</th>\n",
       "      <td>Guttman-Yassky 2007</td>\n",
       "      <td>anti-FceRI</td>\n",
       "      <td>TREATMENT</td>\n",
       "    </tr>\n",
       "    <tr>\n",
       "      <th>4</th>\n",
       "      <td>Guttman-Yassky 2007</td>\n",
       "      <td>anti-IgE autoantibodies</td>\n",
       "      <td>TREATMENT</td>\n",
       "    </tr>\n",
       "  </tbody>\n",
       "</table>\n",
       "</div>"
      ],
      "text/plain": [
       "               Article                   Entity      Class\n",
       "0  Guttman-Yassky 2007                  Allergy  CONDITION\n",
       "1  Guttman-Yassky 2007             Haifa-Israel  TREATMENT\n",
       "2  Guttman-Yassky 2007    autologous serum skin  CONDITION\n",
       "3  Guttman-Yassky 2007               anti-FceRI  TREATMENT\n",
       "4  Guttman-Yassky 2007  anti-IgE autoantibodies  TREATMENT"
      ]
     },
     "execution_count": 50,
     "metadata": {},
     "output_type": "execute_result"
    }
   ],
   "source": [
    "ent_df = pd.DataFrame(table)\n",
    "ent_df.head()"
   ]
  },
  {
   "cell_type": "code",
   "execution_count": null,
   "id": "3ae97e93",
   "metadata": {},
   "outputs": [],
   "source": []
  }
 ],
 "metadata": {
  "kernelspec": {
   "display_name": "Urticaria",
   "language": "python",
   "name": "env_urticaria"
  },
  "language_info": {
   "codemirror_mode": {
    "name": "ipython",
    "version": 3
   },
   "file_extension": ".py",
   "mimetype": "text/x-python",
   "name": "python",
   "nbconvert_exporter": "python",
   "pygments_lexer": "ipython3",
   "version": "3.6.13"
  }
 },
 "nbformat": 4,
 "nbformat_minor": 5
}
