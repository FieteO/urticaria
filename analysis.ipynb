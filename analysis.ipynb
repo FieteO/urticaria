{
 "metadata": {
  "orig_nbformat": 2,
  "kernelspec": {
   "name": "python3",
   "display_name": "Python 3",
   "language": "python"
  }
 },
 "nbformat": 4,
 "nbformat_minor": 2,
 "cells": [
  {
   "cell_type": "code",
   "execution_count": 5,
   "metadata": {},
   "outputs": [
    {
     "output_type": "execute_result",
     "data": {
      "text/plain": [
       "   Unnamed: 0  ...                                               text\n",
       "0           0  ...   Clinical Allergology – Original Paper \\n\\n In...\n",
       "1           1  ...  Clinical-laboratory characteristics of ANA-pos...\n",
       "2           2  ...  p. kolkhir, D. pogorelov, o. oliSova\\n\\nvol 49...\n",
       "3           3  ...  Clinical dermatology (cid:129) Original articl...\n",
       "4           4  ...  RESEARCH ARTICLE\\n\\nIL-6 Transsignaling in Pat...\n",
       "\n",
       "[5 rows x 4 columns]"
      ],
      "text/html": "<div>\n<style scoped>\n    .dataframe tbody tr th:only-of-type {\n        vertical-align: middle;\n    }\n\n    .dataframe tbody tr th {\n        vertical-align: top;\n    }\n\n    .dataframe thead th {\n        text-align: right;\n    }\n</style>\n<table border=\"1\" class=\"dataframe\">\n  <thead>\n    <tr style=\"text-align: right;\">\n      <th></th>\n      <th>Unnamed: 0</th>\n      <th>filepath</th>\n      <th>checksum</th>\n      <th>text</th>\n    </tr>\n  </thead>\n  <tbody>\n    <tr>\n      <th>0</th>\n      <td>0</td>\n      <td>./CAPTUM/CRP/ANA/Asero 2017.pdf</td>\n      <td>2fad223ae2232cb9e855d3ece9e34b72</td>\n      <td>Clinical Allergology – Original Paper \\n\\n In...</td>\n    </tr>\n    <tr>\n      <th>1</th>\n      <td>1</td>\n      <td>./CAPTUM/CRP/ANA/Magen 2015.pdf</td>\n      <td>c721aaea67a47811324b3c860dde612b</td>\n      <td>Clinical-laboratory characteristics of ANA-pos...</td>\n    </tr>\n    <tr>\n      <th>2</th>\n      <td>2</td>\n      <td>./CAPTUM/CRP/Severity/Kolkhir 2017 .pdf</td>\n      <td>aed2cb292fdffefe2a319b9d7e517bb3</td>\n      <td>p. kolkhir, D. pogorelov, o. oliSova\\n\\nvol 49...</td>\n    </tr>\n    <tr>\n      <th>3</th>\n      <td>3</td>\n      <td>./CAPTUM/CRP/Severity/Baek 2014.pdf</td>\n      <td>989e3eca08259c9a898acc551473f55f</td>\n      <td>Clinical dermatology (cid:129) Original articl...</td>\n    </tr>\n    <tr>\n      <th>4</th>\n      <td>4</td>\n      <td>./CAPTUM/CRP/Severity/Kasperska-Zajac 2015.pdf</td>\n      <td>2ed156f4fd5cfa00198f3f6f590940e0</td>\n      <td>RESEARCH ARTICLE\\n\\nIL-6 Transsignaling in Pat...</td>\n    </tr>\n  </tbody>\n</table>\n</div>"
     },
     "metadata": {},
     "execution_count": 5
    }
   ],
   "source": [
    "import pandas as pd\n",
    "\n",
    "captum = pd.read_csv('captum.csv')\n",
    "captum.head()"
   ]
  }
 ]
}