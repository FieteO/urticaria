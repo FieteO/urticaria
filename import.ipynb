{
 "cells": [
  {
   "cell_type": "code",
   "execution_count": 118,
   "metadata": {
    "tags": []
   },
   "outputs": [],
   "source": [
    "import os\n",
    "import re\n",
    "import pandas as pd\n",
    "import numpy as np\n",
    "from PIL import Image\n",
    "import concurrent.futures\n",
    "import queue\n",
    "import time\n",
    "import tesserocr\n",
    "#from multiprocessing import cpu_count, Pool\n",
    "from pdf2image import convert_from_path\n",
    "from pdf2image import convert_from_bytes\n",
    "from langdetect import detect"
   ]
  },
  {
   "cell_type": "markdown",
   "metadata": {},
   "source": [
    "# Import the source data\n",
    "The data is provided as a directory that is three levels deep (the third level is ommited in the following listing).\n",
    "``` bash\n",
    "fiete@ubu:~/Documents/studium/analyse_semi_und_unstrukturierter_daten$ tree -d -L 1 CAPTUM\n",
    "CAPTUM\n",
    "├── Allergic Diseases\n",
    "├── ANA\n",
    "├── Angioedema\n",
    "├── anti-FcεRI\n",
    "├── Antihistamine\n",
    "├── Anti-IgE\n",
    "├── anti-TPO IgE ratio\n",
    "├── ASST\n",
    "├── Basophil\n",
    "├── BAT\n",
    "├── BHRA\n",
    "├── CRP\n",
    "├── Cyclosporine\n",
    "├── D-Dimer\n",
    "├── dsDNA\n",
    "├── Duration\n",
    "├── Eosinophil\n",
    "├── IL-24\n",
    "├── Omalizumab\n",
    "├── Severity\n",
    "├── Thyroglobulin\n",
    "├── Total IgE\n",
    "└── TPO\n",
    "```\n",
    "\n",
    "To work further with the source data, it is useful to have a list of file paths for the pdfs. The following creates a list of all pdf files in the `CAPTUM` source folder."
   ]
  },
  {
   "cell_type": "code",
   "execution_count": 119,
   "metadata": {},
   "outputs": [],
   "source": [
    "def get_filepaths(path):\n",
    "    pdf_filepaths = []\n",
    "    for root, directories, files in os.walk(path, topdown=False):\n",
    "        for name in files:\n",
    "            if name[-4:] == '.pdf':\n",
    "                pdf_filepaths.append(os.path.join(root, name))\n",
    "    return pdf_filepaths\n",
    "\n",
    "def get_language(path):\n",
    "        text = ''\n",
    "        with open(path, 'rb') as raw_pdf:\n",
    "            ocr_entities = convert_from_bytes(raw_pdf.read(), dpi=300, thread_count=4, grayscale=True) # return List[PIL.Image]\n",
    "        for p in range(0,10):\n",
    "            if len(text) <= 500:\n",
    "                    text += tesserocr.image_to_text(ocr_entities[p])\n",
    "            else:\n",
    "                print('Reached required number of words for language detection after ' + str(p) + ' pages.')\n",
    "                break\n",
    "        return detect(text[:500]) # returns i.e en or de\n",
    "\n",
    "tesserocr_queue = queue.Queue()\n",
    "\n",
    "def perform_ocr(img):\n",
    "    tess_api = None\n",
    "    try:\n",
    "        tess_api = tesserocr_queue.get(block=True, timeout=300)\n",
    "        tess_api.SetImage(img)\n",
    "        text = tess_api.GetUTF8Text()\n",
    "        return text\n",
    "    except tesserocr_queue.Empty:\n",
    "        print('Empty exception caught!')\n",
    "        return None\n",
    "    finally:\n",
    "        if tess_api is not None:\n",
    "            tesserocr_queue.put(tess_api)\n",
    "\n",
    "def run_threaded_ocr_on_pdf(ocr_images, num_threads, language):\n",
    "    # Setup Queue\n",
    "    for _ in range(num_threads):\n",
    "        tesserocr_queue.put(tesserocr.PyTessBaseAPI(lang=language))\n",
    "\n",
    "    # Perform OCR using ThreadPoolExecutor\n",
    "    start = time.time()\n",
    "    with concurrent.futures.ThreadPoolExecutor(max_workers=num_threads) as executor:\n",
    "        res = executor.map(perform_ocr, ocr_images)\n",
    "    end = time.time()\n",
    "\n",
    "    # Restoring queue\n",
    "    for _ in range(num_threads):\n",
    "        api = tesserocr_queue.get(block=True)\n",
    "        api.End()\n",
    "\n",
    "    tesserocr_queue.queue.clear()\n",
    "    return (res, end - start)\n",
    "\n",
    "def ocr_pdf(filepath, language, threads):\n",
    "    if (language not in ['eng', 'deu']):\n",
    "        print(f\"Got language code { language }, using 'eng' for ocr.\")\n",
    "        language = 'eng'\n",
    "    # Pdf to image\n",
    "    with open(filepath, 'rb') as raw_pdf:\n",
    "        ocr_entities = convert_from_bytes(raw_pdf.read(), dpi=300, thread_count=4, grayscale=True)\n",
    "\n",
    "    print(f'Starting OCR for file { os.path.basename(filepath) }')\n",
    "    result_iterator, total_time = run_threaded_ocr_on_pdf(ocr_entities, threads, language)\n",
    "\n",
    "    text = ''\n",
    "    number_of_pages = 0\n",
    "    for item in result_iterator:\n",
    "        text += item\n",
    "        number_of_pages += 1\n",
    "    \n",
    "    # print(f'OCR finished in {str(total_time)} seconds with an average of {str(total_time / number_of_pages)} seconds per page.')\n",
    "    return (text, number_of_pages)\n",
    "\n",
    "def clean_text(text: str) -> str:\n",
    "    # https://www.kaggle.com/arijzou/text-preprocessing-disaster-tweets\n",
    "    url_pattern = r'''(?i)\\b((?:https?://|www\\d{0,3}[.]|[a-z0-9.\\-]+[.][a-z]{2,4}/)(?:[^\\s()<>]+|\\(([^\\s()<>]+|(\\([^\\s()<>]+\\)))*\\))+(?:\\(([^\\s()<>]+|(\\([^\\s()<>]+\\)))*\\)|[^\\s`!()\\[\\]{};:'\".,<>?«»“”‘’]))'''\n",
    "    # https://www.emailregex.com/\n",
    "    email_pattern = r'''(?:[a-z0-9!#$%&'*+/=?^_`{|}~-]+(?:\\.[a-z0-9!#$%&'*+/=?^_`{|}~-]+)*|\"(?:[\\x01-\\x08\\x0b\\x0c\\x0e-\\x1f\\x21\\x23-\\x5b\\x5d-\\x7f]|\\\\[\\x01-\\x09\\x0b\\x0c\\x0e-\\x7f])*\")@(?:(?:[a-z0-9](?:[a-z0-9-]*[a-z0-9])?\\.)+[a-z0-9](?:[a-z0-9-]*[a-z0-9])?|\\[(?:(?:25[0-5]|2[0-4][0-9]|[01]?[0-9][0-9]?)\\.){3}(?:25[0-5]|2[0-4][0-9]|[01]?[0-9][0-9]?|[a-z0-9-]*[a-z0-9]:(?:[\\x01-\\x08\\x0b\\x0c\\x0e-\\x1f\\x21-\\x5a\\x53-\\x7f]|\\\\[\\x01-\\x09\\x0b\\x0c\\x0e-\\x7f])+)\\])'''\n",
    "    text = text.replace(\"\\n\",\" \")                   # new lines\n",
    "    text = \" \".join(text.split())                   # consecutive spaces\n",
    "    #text = re.sub(url_pattern, '', text)            # urls\n",
    "    #text = re.sub(email_pattern, '', text)          # e-mails\n",
    "    #text = re.sub(r'\\[[0-9]+\\]','', text)           # quotation references\n",
    "    #text = re.sub(r'[:°<>,=\"”~{}()!\\[\\]]','', text) # meaningless characters\n",
    "    #text = text.replace(':', '')                    # colons\n",
    "    text = text.lower()                             # turn lowercase\n",
    "    return text"
   ]
  },
  {
   "source": [
    "## Initialize dataframe with pdf filepaths"
   ],
   "cell_type": "markdown",
   "metadata": {}
  },
  {
   "cell_type": "code",
   "execution_count": 120,
   "metadata": {},
   "outputs": [
    {
     "output_type": "execute_result",
     "data": {
      "text/plain": [
       "                                            filepath  \\\n",
       "0                    ./CAPTUM/CRP/ANA/Asero 2017.pdf   \n",
       "1  ./CAPTUM/Allergic Diseases/Omalizumab/Palacios...   \n",
       "2  ./CAPTUM/Allergic Diseases/Omalizumab/Incorvai...   \n",
       "3  ./CAPTUM/Allergic Diseases/Omalizumab/Cusack 2...   \n",
       "4  ./CAPTUM/Allergic Diseases/Omalizumab/Ke 2018.pdf   \n",
       "\n",
       "                           checksum lang  \\\n",
       "0  2fad223ae2232cb9e855d3ece9e34b72  eng   \n",
       "1  a39d7763465b87b81a72259037b3c158  eng   \n",
       "2  eac49b8d8cc3fbb1bf253eb33303e599  eng   \n",
       "3  5c9c87edcc49054b5710fec3f498777d  eng   \n",
       "4  f1f6e0f31707f860336c9ba7d2d49567  eng   \n",
       "\n",
       "                                                text  number_of_pages  \n",
       "0  Clinical Allergology - Original Paper\\n\\nInter...                5  \n",
       "1  1duosnuey\\ soulny 1duosnueyy souiny 1duosnuey\\...                7  \n",
       "2  Drug Design, Development and Therapy\\n\\n8\\n\\nD...               11  \n",
       "3  QJM Advance Access published March 9, 2016\\n\\n...               14  \n",
       "4  aT ee ee\\n\\nReal-World Characteristics and Tre...               11  "
      ],
      "text/html": "<div>\n<style scoped>\n    .dataframe tbody tr th:only-of-type {\n        vertical-align: middle;\n    }\n\n    .dataframe tbody tr th {\n        vertical-align: top;\n    }\n\n    .dataframe thead th {\n        text-align: right;\n    }\n</style>\n<table border=\"1\" class=\"dataframe\">\n  <thead>\n    <tr style=\"text-align: right;\">\n      <th></th>\n      <th>filepath</th>\n      <th>checksum</th>\n      <th>lang</th>\n      <th>text</th>\n      <th>number_of_pages</th>\n    </tr>\n  </thead>\n  <tbody>\n    <tr>\n      <th>0</th>\n      <td>./CAPTUM/CRP/ANA/Asero 2017.pdf</td>\n      <td>2fad223ae2232cb9e855d3ece9e34b72</td>\n      <td>eng</td>\n      <td>Clinical Allergology - Original Paper\\n\\nInter...</td>\n      <td>5</td>\n    </tr>\n    <tr>\n      <th>1</th>\n      <td>./CAPTUM/Allergic Diseases/Omalizumab/Palacios...</td>\n      <td>a39d7763465b87b81a72259037b3c158</td>\n      <td>eng</td>\n      <td>1duosnuey\\ soulny 1duosnueyy souiny 1duosnuey\\...</td>\n      <td>7</td>\n    </tr>\n    <tr>\n      <th>2</th>\n      <td>./CAPTUM/Allergic Diseases/Omalizumab/Incorvai...</td>\n      <td>eac49b8d8cc3fbb1bf253eb33303e599</td>\n      <td>eng</td>\n      <td>Drug Design, Development and Therapy\\n\\n8\\n\\nD...</td>\n      <td>11</td>\n    </tr>\n    <tr>\n      <th>3</th>\n      <td>./CAPTUM/Allergic Diseases/Omalizumab/Cusack 2...</td>\n      <td>5c9c87edcc49054b5710fec3f498777d</td>\n      <td>eng</td>\n      <td>QJM Advance Access published March 9, 2016\\n\\n...</td>\n      <td>14</td>\n    </tr>\n    <tr>\n      <th>4</th>\n      <td>./CAPTUM/Allergic Diseases/Omalizumab/Ke 2018.pdf</td>\n      <td>f1f6e0f31707f860336c9ba7d2d49567</td>\n      <td>eng</td>\n      <td>aT ee ee\\n\\nReal-World Characteristics and Tre...</td>\n      <td>11</td>\n    </tr>\n  </tbody>\n</table>\n</div>"
     },
     "metadata": {},
     "execution_count": 120
    }
   ],
   "source": [
    "root_dir = './CAPTUM'\n",
    "captum_csv = 'captum.csv'\n",
    "\n",
    "# make this notebook rerunnable (idempotent)\n",
    "if os.path.isfile(captum_csv):\n",
    "    captum = pd.read_csv(captum_csv, index_col=0)\n",
    "else:\n",
    "    captum = pd.DataFrame(get_filepaths(root_dir), columns = ['filepath'])\n",
    "\n",
    "captum.head()"
   ]
  },
  {
   "cell_type": "markdown",
   "metadata": {},
   "source": [
    "## Check data for duplicate entries\n",
    "We can identify duplicate pdfs by computing the checksum of each file and then counting the unique values. So let us define the checksum function `get_checksum()`:"
   ]
  },
  {
   "cell_type": "code",
   "execution_count": 121,
   "metadata": {},
   "outputs": [],
   "source": [
    "# https://stackoverflow.com/questions/16874598/how-do-i-calculate-the-md5-checksum-of-a-file-in-python#16876405\n",
    "import hashlib\n",
    "\n",
    "def get_checksum(filepath: str) -> str:\n",
    "    # Open,close, read file and calculate MD5 on its contents \n",
    "    with open(filepath, 'rb') as file_to_check:\n",
    "        # read contents of the file\n",
    "        data = file_to_check.read()    \n",
    "        # pipe contents of the file through\n",
    "        return hashlib.md5(data).hexdigest()\n",
    "\n",
    "# check that it works\n",
    "file_one, file_one_copy, file_two = \"./pdf_1.pdf\", \"./pdf_1 copy.pdf\", \"./pdf_2.pdf\"\n",
    "assert get_checksum(file_one) == get_checksum(file_one_copy), \"should be equal\"\n",
    "assert get_checksum(file_one) != get_checksum(file_two), \"should not be equal\""
   ]
  },
  {
   "cell_type": "markdown",
   "metadata": {},
   "source": [
    "Then we can create a pandas dataframe from the list of filepath's and also add a checksum column that is computed using our `get_checksum()` function."
   ]
  },
  {
   "cell_type": "code",
   "execution_count": 122,
   "metadata": {},
   "outputs": [
    {
     "output_type": "stream",
     "name": "stdout",
     "text": [
      "Skipped cell\n"
     ]
    }
   ],
   "source": [
    "if 'checksum' not in captum.columns:\n",
    "    captum['checksum'] = captum['filepath'].map(get_checksum)\n",
    "    captum.head()\n",
    "else:\n",
    "    print('Skipped cell')"
   ]
  },
  {
   "cell_type": "markdown",
   "metadata": {},
   "source": [
    "In the final step, we can analyse the results of this activity. It seems that our available data is in reality only half as large as it initially appears."
   ]
  },
  {
   "cell_type": "code",
   "execution_count": 123,
   "metadata": {
    "tags": []
   },
   "outputs": [
    {
     "output_type": "stream",
     "name": "stdout",
     "text": [
      "Total number of pdfs: 464\nTotal number of unique pdfs: 464\n"
     ]
    },
    {
     "output_type": "execute_result",
     "data": {
      "text/plain": [
       "0      2fad223ae2232cb9e855d3ece9e34b72\n",
       "1      a39d7763465b87b81a72259037b3c158\n",
       "2      eac49b8d8cc3fbb1bf253eb33303e599\n",
       "3      5c9c87edcc49054b5710fec3f498777d\n",
       "4      f1f6e0f31707f860336c9ba7d2d49567\n",
       "                     ...               \n",
       "459    618e7a3878680f56615727f92a241794\n",
       "460    bcdf98982a6308d4c6ff11b2568a1da2\n",
       "461    64c79e3174b21fff8317ed5ebcf94c5c\n",
       "462    7ee96581891eaf2761ebffab6ef05491\n",
       "463    1eba773a39a5b01bfef1a04337cfce7e\n",
       "Name: checksum, Length: 464, dtype: object"
      ]
     },
     "metadata": {},
     "execution_count": 123
    }
   ],
   "source": [
    "print('Total number of pdfs: {}'.format(captum['checksum'].count()))\n",
    "print('Total number of unique pdfs: {}'.format(len(captum['checksum'].unique())))\n",
    "captum['checksum']\n"
   ]
  },
  {
   "cell_type": "markdown",
   "metadata": {},
   "source": [
    "Now we create a df of unique pdfs by removing duplicate checksums"
   ]
  },
  {
   "cell_type": "code",
   "execution_count": 124,
   "metadata": {},
   "outputs": [
    {
     "output_type": "execute_result",
     "data": {
      "text/plain": [
       "                                            filepath  \\\n",
       "0                    ./CAPTUM/CRP/ANA/Asero 2017.pdf   \n",
       "1  ./CAPTUM/Allergic Diseases/Omalizumab/Palacios...   \n",
       "2  ./CAPTUM/Allergic Diseases/Omalizumab/Incorvai...   \n",
       "3  ./CAPTUM/Allergic Diseases/Omalizumab/Cusack 2...   \n",
       "4  ./CAPTUM/Allergic Diseases/Omalizumab/Ke 2018.pdf   \n",
       "\n",
       "                           checksum lang  \\\n",
       "0  2fad223ae2232cb9e855d3ece9e34b72  eng   \n",
       "1  a39d7763465b87b81a72259037b3c158  eng   \n",
       "2  eac49b8d8cc3fbb1bf253eb33303e599  eng   \n",
       "3  5c9c87edcc49054b5710fec3f498777d  eng   \n",
       "4  f1f6e0f31707f860336c9ba7d2d49567  eng   \n",
       "\n",
       "                                                text  number_of_pages  \n",
       "0  Clinical Allergology - Original Paper\\n\\nInter...                5  \n",
       "1  1duosnuey\\ soulny 1duosnueyy souiny 1duosnuey\\...                7  \n",
       "2  Drug Design, Development and Therapy\\n\\n8\\n\\nD...               11  \n",
       "3  QJM Advance Access published March 9, 2016\\n\\n...               14  \n",
       "4  aT ee ee\\n\\nReal-World Characteristics and Tre...               11  "
      ],
      "text/html": "<div>\n<style scoped>\n    .dataframe tbody tr th:only-of-type {\n        vertical-align: middle;\n    }\n\n    .dataframe tbody tr th {\n        vertical-align: top;\n    }\n\n    .dataframe thead th {\n        text-align: right;\n    }\n</style>\n<table border=\"1\" class=\"dataframe\">\n  <thead>\n    <tr style=\"text-align: right;\">\n      <th></th>\n      <th>filepath</th>\n      <th>checksum</th>\n      <th>lang</th>\n      <th>text</th>\n      <th>number_of_pages</th>\n    </tr>\n  </thead>\n  <tbody>\n    <tr>\n      <th>0</th>\n      <td>./CAPTUM/CRP/ANA/Asero 2017.pdf</td>\n      <td>2fad223ae2232cb9e855d3ece9e34b72</td>\n      <td>eng</td>\n      <td>Clinical Allergology - Original Paper\\n\\nInter...</td>\n      <td>5</td>\n    </tr>\n    <tr>\n      <th>1</th>\n      <td>./CAPTUM/Allergic Diseases/Omalizumab/Palacios...</td>\n      <td>a39d7763465b87b81a72259037b3c158</td>\n      <td>eng</td>\n      <td>1duosnuey\\ soulny 1duosnueyy souiny 1duosnuey\\...</td>\n      <td>7</td>\n    </tr>\n    <tr>\n      <th>2</th>\n      <td>./CAPTUM/Allergic Diseases/Omalizumab/Incorvai...</td>\n      <td>eac49b8d8cc3fbb1bf253eb33303e599</td>\n      <td>eng</td>\n      <td>Drug Design, Development and Therapy\\n\\n8\\n\\nD...</td>\n      <td>11</td>\n    </tr>\n    <tr>\n      <th>3</th>\n      <td>./CAPTUM/Allergic Diseases/Omalizumab/Cusack 2...</td>\n      <td>5c9c87edcc49054b5710fec3f498777d</td>\n      <td>eng</td>\n      <td>QJM Advance Access published March 9, 2016\\n\\n...</td>\n      <td>14</td>\n    </tr>\n    <tr>\n      <th>4</th>\n      <td>./CAPTUM/Allergic Diseases/Omalizumab/Ke 2018.pdf</td>\n      <td>f1f6e0f31707f860336c9ba7d2d49567</td>\n      <td>eng</td>\n      <td>aT ee ee\\n\\nReal-World Characteristics and Tre...</td>\n      <td>11</td>\n    </tr>\n  </tbody>\n</table>\n</div>"
     },
     "metadata": {},
     "execution_count": 124
    }
   ],
   "source": [
    "captum = captum.drop_duplicates(subset=['checksum'])\n",
    "captum.head()"
   ]
  },
  {
   "cell_type": "markdown",
   "metadata": {},
   "source": [
    "# Extracting the text\n",
    "The next step is to read the text from the pdfs. We will do this using Optical Character Recognition (OCR)"
   ]
  },
  {
   "source": [
    "## Identify the document language based on a sample of pages"
   ],
   "cell_type": "markdown",
   "metadata": {}
  },
  {
   "cell_type": "code",
   "execution_count": 125,
   "metadata": {
    "tags": []
   },
   "outputs": [
    {
     "output_type": "stream",
     "name": "stdout",
     "text": [
      "Skipped cell\n"
     ]
    }
   ],
   "source": [
    "if 'lang' not in captum.columns:\n",
    "    captum['lang'] = captum['filepath'].map(get_language)\n",
    "    captum.lang = captum.lang.replace({'en':'eng','de':'deu'})\n",
    "    captum = captum.sort_values(by='lang')\n",
    "    captum.reset_index(drop=True, inplace=True)\n",
    "    captum.head()\n",
    "    captum.to_csv(captum_csv)\n",
    "else:\n",
    "    print('Skipped cell')"
   ]
  },
  {
   "source": [
    "### Running OCR on the images"
   ],
   "cell_type": "markdown",
   "metadata": {}
  },
  {
   "cell_type": "code",
   "execution_count": 126,
   "metadata": {
    "tags": []
   },
   "outputs": [],
   "source": [
    "if 'text' not in captum.columns:\n",
    "    # check optimal number of threads with tesser_perf.py\n",
    "    threads = 8\n",
    "\n",
    "    for index, row in captum.iterrows():\n",
    "        text, number_of_pages = ocr_pdf(row.filepath, row.lang ,threads)\n",
    "        captum.loc[index, 'text'] = text\n",
    "        captum.loc[index, 'number_of_pages'] = number_of_pages\n",
    "\n",
    "    captum.number_of_pages = captum.number_of_pages.astype(int)   # is decimal otherwise\n",
    "    print(captum.head())\n",
    "    captum.to_csv(captum_csv)"
   ]
  },
  {
   "cell_type": "code",
   "execution_count": 127,
   "metadata": {},
   "outputs": [
    {
     "output_type": "execute_result",
     "data": {
      "text/plain": [
       "0      Clinical Allergology - Original Paper\\n\\nInter...\n",
       "1      1duosnuey\\ soulny 1duosnueyy souiny 1duosnuey\\...\n",
       "2      Drug Design, Development and Therapy\\n\\n8\\n\\nD...\n",
       "3      QJM Advance Access published March 9, 2016\\n\\n...\n",
       "4      aT ee ee\\n\\nReal-World Characteristics and Tre...\n",
       "                             ...                        \n",
       "459    10\\n\\n11\\n\\n12\\n\\n13\\n\\n14\\n\\n15\\n\\n16\\n\\n17\\n...\n",
       "460    ®\\n\\nCheck for\\nDOI: 10.1111/j)dv.15350 JEADV ...\n",
       "461    Clinical & Experimental Immunology\\n\\nThe Jour...\n",
       "462    van den Elzen et al. Clin Trans! Allergy (2017...\n",
       "463    Atopic dermatitis and skin disease\\n\\nExpressi...\n",
       "Name: text, Length: 464, dtype: object"
      ]
     },
     "metadata": {},
     "execution_count": 127
    }
   ],
   "source": [
    "captum.head()\n",
    "captum.text"
   ]
  },
  {
   "source": [
    "## Clean the text\n",
    "Remove\n",
    "- New lines (\\n)\n",
    "- Consecutive spaces"
   ],
   "cell_type": "markdown",
   "metadata": {}
  },
  {
   "cell_type": "code",
   "execution_count": 128,
   "metadata": {
    "tags": [
     "outputPrepend"
    ]
   },
   "outputs": [
    {
     "output_type": "stream",
     "name": "stdout",
     "text": [
      "373/464 length: 28003\n",
      "374/464 length: 18107\n",
      "375/464 length: 24861\n",
      "376/464 length: 35520\n",
      "377/464 length: 29231\n",
      "378/464 length: 36434\n",
      "379/464 length: 25278\n",
      "380/464 length: 29587\n",
      "381/464 length: 39840\n",
      "382/464 length: 28636\n",
      "383/464 length: 24620\n",
      "384/464 length: 27676\n",
      "385/464 length: 39193\n",
      "386/464 length: 34395\n",
      "387/464 length: 25398\n",
      "388/464 length: 15265\n",
      "389/464 length: 21285\n",
      "390/464 length: 32929\n",
      "391/464 length: 27501\n",
      "392/464 length: 11943\n",
      "393/464 length: 13338\n",
      "394/464 length: 51434\n",
      "395/464 length: 17129\n",
      "396/464 length: 42356\n",
      "397/464 length: 11818\n",
      "398/464 length: 44714\n",
      "399/464 length: 56347\n",
      "400/464 length: 42234\n",
      "401/464 length: 24002\n",
      "402/464 length: 49265\n",
      "403/464 length: 29505\n",
      "404/464 length: 23799\n",
      "405/464 length: 46249\n",
      "406/464 length: 44414\n",
      "407/464 length: 46480\n",
      "408/464 length: 26351\n",
      "409/464 length: 38962\n",
      "410/464 length: 52752\n",
      "411/464 length: 17538\n",
      "412/464 length: 48409\n",
      "413/464 length: 15804\n",
      "414/464 length: 44230\n",
      "415/464 length: 45088\n",
      "416/464 length: 29374\n",
      "417/464 length: 30315\n",
      "418/464 length: 40637\n",
      "419/464 length: 45447\n",
      "420/464 length: 18645\n",
      "421/464 length: 39326\n",
      "422/464 length: 27148\n",
      "423/464 length: 47184\n",
      "424/464 length: 43978\n",
      "425/464 length: 30636\n",
      "426/464 length: 10643\n",
      "427/464 length: 49546\n",
      "428/464 length: 33002\n",
      "429/464 length: 26048\n",
      "430/464 length: 32162\n",
      "431/464 length: 21333\n",
      "432/464 length: 6152\n",
      "433/464 length: 12594\n",
      "434/464 length: 9413\n",
      "435/464 length: 33014\n",
      "436/464 length: 47393\n",
      "437/464 length: 51162\n",
      "438/464 length: 39927\n",
      "439/464 length: 89821\n",
      "440/464 length: 46363\n",
      "441/464 length: 39926\n",
      "442/464 length: 44648\n",
      "443/464 length: 28552\n",
      "444/464 length: 14324\n",
      "445/464 length: 20344\n",
      "446/464 length: 37839\n",
      "447/464 length: 31880\n",
      "448/464 length: 23105\n",
      "449/464 length: 36305\n",
      "450/464 length: 22544\n",
      "451/464 length: 38792\n",
      "452/464 length: 27743\n",
      "453/464 length: 27818\n",
      "454/464 length: 35560\n",
      "455/464 length: 14635\n",
      "456/464 length: 27273\n",
      "457/464 length: 12460\n",
      "458/464 length: 21963\n",
      "459/464 length: 17971\n",
      "460/464 length: 37832\n",
      "461/464 length: 32148\n",
      "462/464 length: 38123\n",
      "463/464 length: 71821\n"
     ]
    },
    {
     "output_type": "execute_result",
     "data": {
      "text/plain": [
       "   Unnamed: 0                                           filepath  \\\n",
       "0           0                    ./CAPTUM/CRP/ANA/Asero 2017.pdf   \n",
       "1           1  ./CAPTUM/Allergic Diseases/Omalizumab/Palacios...   \n",
       "2           2  ./CAPTUM/Allergic Diseases/Omalizumab/Incorvai...   \n",
       "3           3  ./CAPTUM/Allergic Diseases/Omalizumab/Cusack 2...   \n",
       "4           4  ./CAPTUM/Allergic Diseases/Omalizumab/Ke 2018.pdf   \n",
       "\n",
       "                           checksum lang  \\\n",
       "0  2fad223ae2232cb9e855d3ece9e34b72  eng   \n",
       "1  a39d7763465b87b81a72259037b3c158  eng   \n",
       "2  eac49b8d8cc3fbb1bf253eb33303e599  eng   \n",
       "3  5c9c87edcc49054b5710fec3f498777d  eng   \n",
       "4  f1f6e0f31707f860336c9ba7d2d49567  eng   \n",
       "\n",
       "                                                text  number_of_pages  \n",
       "0  clinical allergology - original paper internat...                5  \n",
       "1  1duosnuey\\ soulny 1duosnueyy souiny 1duosnuey\\...                7  \n",
       "2  drug design, development and therapy 8 dove re...               11  \n",
       "3  qjm advance access published march 9, 2016 qua...               14  \n",
       "4  at ee ee real-world characteristics and treatm...               11  "
      ],
      "text/html": "<div>\n<style scoped>\n    .dataframe tbody tr th:only-of-type {\n        vertical-align: middle;\n    }\n\n    .dataframe tbody tr th {\n        vertical-align: top;\n    }\n\n    .dataframe thead th {\n        text-align: right;\n    }\n</style>\n<table border=\"1\" class=\"dataframe\">\n  <thead>\n    <tr style=\"text-align: right;\">\n      <th></th>\n      <th>Unnamed: 0</th>\n      <th>filepath</th>\n      <th>checksum</th>\n      <th>lang</th>\n      <th>text</th>\n      <th>number_of_pages</th>\n    </tr>\n  </thead>\n  <tbody>\n    <tr>\n      <th>0</th>\n      <td>0</td>\n      <td>./CAPTUM/CRP/ANA/Asero 2017.pdf</td>\n      <td>2fad223ae2232cb9e855d3ece9e34b72</td>\n      <td>eng</td>\n      <td>clinical allergology - original paper internat...</td>\n      <td>5</td>\n    </tr>\n    <tr>\n      <th>1</th>\n      <td>1</td>\n      <td>./CAPTUM/Allergic Diseases/Omalizumab/Palacios...</td>\n      <td>a39d7763465b87b81a72259037b3c158</td>\n      <td>eng</td>\n      <td>1duosnuey\\ soulny 1duosnueyy souiny 1duosnuey\\...</td>\n      <td>7</td>\n    </tr>\n    <tr>\n      <th>2</th>\n      <td>2</td>\n      <td>./CAPTUM/Allergic Diseases/Omalizumab/Incorvai...</td>\n      <td>eac49b8d8cc3fbb1bf253eb33303e599</td>\n      <td>eng</td>\n      <td>drug design, development and therapy 8 dove re...</td>\n      <td>11</td>\n    </tr>\n    <tr>\n      <th>3</th>\n      <td>3</td>\n      <td>./CAPTUM/Allergic Diseases/Omalizumab/Cusack 2...</td>\n      <td>5c9c87edcc49054b5710fec3f498777d</td>\n      <td>eng</td>\n      <td>qjm advance access published march 9, 2016 qua...</td>\n      <td>14</td>\n    </tr>\n    <tr>\n      <th>4</th>\n      <td>4</td>\n      <td>./CAPTUM/Allergic Diseases/Omalizumab/Ke 2018.pdf</td>\n      <td>f1f6e0f31707f860336c9ba7d2d49567</td>\n      <td>eng</td>\n      <td>at ee ee real-world characteristics and treatm...</td>\n      <td>11</td>\n    </tr>\n  </tbody>\n</table>\n</div>"
     },
     "metadata": {},
     "execution_count": 128
    }
   ],
   "source": [
    "captum = pd.read_csv(captum_csv)\n",
    "for index,row in captum.iterrows():\n",
    "    captum.loc[index, 'text'] = clean_text(row['text'])\n",
    "captum.head()"
   ]
  },
  {
   "cell_type": "code",
   "execution_count": 129,
   "metadata": {},
   "outputs": [],
   "source": [
    "captum.to_csv(captum_csv)"
   ]
  }
 ],
 "metadata": {
  "kernelspec": {
   "display_name": "Python 3",
   "language": "python",
   "name": "python3"
  },
  "metadata": {
   "interpreter": {
    "hash": "31f2aee4e71d21fbe5cf8b01ff0e069b9275f58929596ceb00d14d90e3e16cd6"
   }
  }
 },
 "nbformat": 4,
 "nbformat_minor": 2
}